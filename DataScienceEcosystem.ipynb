{
 "cells": [
  {
   "cell_type": "markdown",
   "id": "4f747e2c-1156-40d5-b297-0a3a654344a1",
   "metadata": {},
   "source": [
    "# DataScienceEcosystem"
   ]
  },
  {
   "cell_type": "markdown",
   "id": "4a9594fd-b6bc-4ba3-a085-891d295eb86d",
   "metadata": {},
   "source": [
    "## we will summarize data sience in this notebook"
   ]
  },
  {
   "cell_type": "markdown",
   "id": "10b8b89e-acd4-4c1f-ac89-4ea677a6d60a",
   "metadata": {},
   "source": [
    "**objectives**"
   ]
  },
  {
   "cell_type": "markdown",
   "id": "bb29ec96-a6e6-4d3d-9d75-2394aa08b7cf",
   "metadata": {},
   "source": [
    "- create a jupyter notebook.\n",
    "- create a code cell and markdown cell.\n",
    "- format markdown cell.\n",
    "- create a list."
   ]
  },
  {
   "cell_type": "markdown",
   "id": "b496b20c-5441-4845-8a0e-62b412f0feee",
   "metadata": {},
   "source": [
    "#### these are some of common language in data science"
   ]
  },
  {
   "cell_type": "markdown",
   "id": "87dafad7-cac7-47c4-a265-0ec6ef995636",
   "metadata": {},
   "source": [
    "1. python\n",
    "2. R\n",
    "3. java\n",
    "4. julia"
   ]
  },
  {
   "cell_type": "markdown",
   "id": "4ddcb101-e1b5-486c-afb5-0765e748fdcb",
   "metadata": {},
   "source": [
    "#### most comman library in dat science .\n"
   ]
  },
  {
   "cell_type": "markdown",
   "id": "24658a8d-b531-4c9e-bd51-dd547f9c4867",
   "metadata": {},
   "source": [
    "* pandas\n",
    "* numpy\n",
    "* matplotlib"
   ]
  },
  {
   "cell_type": "markdown",
   "id": "89108b03-baf5-4ba3-b8b8-d54449c5f846",
   "metadata": {},
   "source": [
    "| data science tools |\n",
    "| ---------------------- |\n",
    "| Jupyter Lab |\n",
    "| Jupyter noteboo|\n",
    "| R stedio |"
   ]
  },
  {
   "cell_type": "markdown",
   "id": "980f0395-399e-4b20-b937-2e79f303ab62",
   "metadata": {},
   "source": [
    "### low are a few examples of evaluating arithmetic expressions in Python\n"
   ]
  },
  {
   "attachments": {},
   "cell_type": "markdown",
   "id": "a2701b5d-2ddc-4606-98d1-00d1c9c09e8f",
   "metadata": {},
   "source": [
    "#####  This a simple arithmetic expression to mutiply then add integers\n"
   ]
  },
  {
   "cell_type": "code",
   "execution_count": 1,
   "id": "3a8ab540-8267-451e-9ec1-f06c4f188caa",
   "metadata": {},
   "outputs": [
    {
     "data": {
      "text/plain": [
       "17"
      ]
     },
     "execution_count": 1,
     "metadata": {},
     "output_type": "execute_result"
    }
   ],
   "source": [
    "(3*4)+5"
   ]
  },
  {
   "cell_type": "markdown",
   "id": "8b9a6123-a9c3-48a2-91ad-3228f3297f26",
   "metadata": {},
   "source": [
    "*we will convert 200 minutes to hours by dividing by 60*"
   ]
  },
  {
   "cell_type": "code",
   "execution_count": 1,
   "id": "d9388bf8-90f5-425e-831d-db13d4098109",
   "metadata": {},
   "outputs": [
    {
     "data": {
      "text/plain": [
       "3.3333333333333335"
      ]
     },
     "execution_count": 1,
     "metadata": {},
     "output_type": "execute_result"
    }
   ],
   "source": [
    "200/60"
   ]
  },
  {
   "cell_type": "markdown",
   "id": "bee0a0a5-67d4-4559-81b1-fae84283f64c",
   "metadata": {},
   "source": [
    "## the author:"
   ]
  },
  {
   "cell_type": "markdown",
   "id": "a26cdf1a-0bb8-4975-bc99-d6c07d38a883",
   "metadata": {},
   "source": [
    "Tharaa Kassem"
   ]
  },
  {
   "cell_type": "code",
   "execution_count": null,
   "id": "10a50e84-9b16-47c8-ba75-72dcf7e629c6",
   "metadata": {},
   "outputs": [],
   "source": []
  }
 ],
 "metadata": {
  "kernelspec": {
   "display_name": "Python 3 (ipykernel)",
   "language": "python",
   "name": "python3"
  },
  "language_info": {
   "codemirror_mode": {
    "name": "ipython",
    "version": 3
   },
   "file_extension": ".py",
   "mimetype": "text/x-python",
   "name": "python",
   "nbconvert_exporter": "python",
   "pygments_lexer": "ipython3",
   "version": "3.12.8"
  }
 },
 "nbformat": 4,
 "nbformat_minor": 5
}
